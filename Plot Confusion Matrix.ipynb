{
 "cells": [
  {
   "cell_type": "markdown",
   "id": "417f8be8",
   "metadata": {},
   "source": [
    "# Developing confusion matrix\n",
    "Sanjoy Roy"
   ]
  },
  {
   "cell_type": "markdown",
   "id": "971e4827",
   "metadata": {},
   "source": [
    "## Install Scikit Learn"
   ]
  },
  {
   "cell_type": "code",
   "execution_count": null,
   "id": "776dca2e",
   "metadata": {},
   "outputs": [],
   "source": [
    "pip install -U scikit-learn"
   ]
  },
  {
   "cell_type": "code",
   "execution_count": 9,
   "id": "28e18746",
   "metadata": {
    "scrolled": true
   },
   "outputs": [
    {
     "name": "stdout",
     "output_type": "stream",
     "text": [
      "\n",
      "Note: you may need to restart the kernel to use updated packages.\n"
     ]
    },
    {
     "name": "stderr",
     "output_type": "stream",
     "text": [
      "Traceback (most recent call last):\n",
      "  File \"C:\\ProgramData\\Anaconda3\\Scripts\\conda-script.py\", line 11, in <module>\n",
      "    from conda.cli import main\n",
      "ImportError: No module named conda.cli\n"
     ]
    }
   ],
   "source": [
    "conda install -c anaconda scikit-learn"
   ]
  },
  {
   "cell_type": "markdown",
   "id": "6127bd4f",
   "metadata": {},
   "source": [
    "## Install Matplotlib and Numpy"
   ]
  },
  {
   "cell_type": "code",
   "execution_count": 10,
   "id": "23df1511",
   "metadata": {},
   "outputs": [],
   "source": [
    "import matplotlib.pyplot as plt\n",
    "import numpy as np"
   ]
  },
  {
   "cell_type": "markdown",
   "id": "7924e270",
   "metadata": {},
   "source": [
    "## Import confusion_matrix from sklearn.matrix"
   ]
  },
  {
   "cell_type": "code",
   "execution_count": 12,
   "id": "7e87fcd4",
   "metadata": {},
   "outputs": [],
   "source": [
    "from sklearn.metrics import confusion_matrix, ConfusionMatrixDisplay"
   ]
  },
  {
   "cell_type": "markdown",
   "id": "fd8a98b8",
   "metadata": {},
   "source": [
    "## Develop codes for confusion matrix"
   ]
  },
  {
   "cell_type": "code",
   "execution_count": 163,
   "id": "4fe2ac8e",
   "metadata": {},
   "outputs": [
    {
     "name": "stdout",
     "output_type": "stream",
     "text": [
      "[[3 0 0]\n",
      " [0 1 2]\n",
      " [2 1 3]]\n"
     ]
    },
    {
     "data": {
      "image/png": "[encoded data removed]",
      "text/plain": [
       "<Figure size 360x360 with 2 Axes>"
      ]
     },
     "metadata": {
      "needs_background": "light"
     },
     "output_type": "display_data"
    }
   ],
   "source": [
    "#Import data as Lists\n",
    "y_actu = [2, 0, 2, 2, 0, 1, 1, 2, 2, 0, 1, 2]\n",
    "y_pred = [0, 0, 2, 1, 0, 2, 1, 0, 2, 0, 2, 2]\n",
    "\n",
    "#Build Confusion Matrix\n",
    "conf_matrix = confusion_matrix(y_actu, y_pred)\n",
    "\n",
    "#Print the confusion matrix using Matplotlib\n",
    "fig, ax = plt.subplots(figsize=(5, 5))\n",
    "res= ax.matshow(conf_matrix, cmap=plt.cm.Blues, alpha=1) #For discrete colourscale cmap=plt.cm.get_cmap('Blues', 6)\n",
    "for i in range(conf_matrix.shape[0]):\n",
    "    for j in range(conf_matrix.shape[1]):\n",
    "        ax.text(x=j, y=i,s=conf_matrix[i, j], va='center', ha='center', size=15)\n",
    "\n",
    "#Defining Label font size\n",
    "#plt.title('Confusion Matrix', fontsize=18)\n",
    "plt.xlabel('Predicted', fontsize=18)\n",
    "plt.ylabel('Actual', fontsize=18)\n",
    "plt.xticks(fontsize=15)\n",
    "plt.yticks(fontsize=15)\n",
    "\n",
    "#Show Plot\n",
    "print(conf_matrix)\n",
    "bar= plt.colorbar(res, ticks=range(4), fraction=0.046, pad=0.04)\n",
    "tick_font_size = 15\n",
    "bar.ax.tick_params(labelsize=tick_font_size)\n",
    "fig.tight_layout()\n",
    "\n",
    "#Save figure in localdrive\n",
    "plt.savefig('C://Users//Sanjoy//Desktop//Cf_Matrix.jpg', dpi=300) \n"
   ]
  }
 ],
 "metadata": {
  "hide_input": false,
  "kernelspec": {
   "display_name": "Python 3 (ipykernel)",
   "language": "python",
   "name": "python3"
  },
  "language_info": {
   "codemirror_mode": {
    "name": "ipython",
    "version": 3
   },
   "file_extension": ".py",
   "mimetype": "text/x-python",
   "name": "python",
   "nbconvert_exporter": "python",
   "pygments_lexer": "ipython3",
   "version": "3.8.12"
  },
  "toc": {
   "base_numbering": 1,
   "nav_menu": {},
   "number_sections": true,
   "sideBar": true,
   "skip_h1_title": false,
   "title_cell": "Table of Contents",
   "title_sidebar": "Contents",
   "toc_cell": false,
   "toc_position": {},
   "toc_section_display": true,
   "toc_window_display": false
  }
 },
 "nbformat": 4,
 "nbformat_minor": 5
}
